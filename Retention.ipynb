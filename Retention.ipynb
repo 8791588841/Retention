{
 "cells": [
  {
   "cell_type": "markdown",
   "metadata": {},
   "source": [
    "This project is based on the case study of a telecommunication company, which is facing a customer churn issue. The project aims at understanding the pattern of the data and predicting customers who are going to churn based on multiple variables to help the company in retaining their existing customers.\n",
    "\n",
    "#### SkillsUsed : XGBoost, GridSearchCV, EDA"
   ]
  },
  {
   "cell_type": "code",
   "execution_count": 1,
   "metadata": {
    "executionInfo": {
     "elapsed": 324,
     "status": "ok",
     "timestamp": 1671242247356,
     "user": {
      "displayName": "Himanshu Bisht",
      "userId": "08365911140108723719"
     },
     "user_tz": -330
    },
    "id": "GSyY5voo6Xma"
   },
   "outputs": [],
   "source": [
    "#Importing relevant libraries.\n",
    "\n",
    "import pandas as pd\n",
    "import numpy as np\n",
    "import seaborn as sns\n",
    "import matplotlib.pyplot as plt\n",
    "from sklearn.model_selection import train_test_split\n",
    "\n",
    "%matplotlib inline"
   ]
  },
  {
   "cell_type": "code",
   "execution_count": 2,
   "metadata": {
    "executionInfo": {
     "elapsed": 11,
     "status": "ok",
     "timestamp": 1671242250729,
     "user": {
      "displayName": "Himanshu Bisht",
      "userId": "08365911140108723719"
     },
     "user_tz": -330
    },
    "id": "yyWJ87mo6xiU"
   },
   "outputs": [],
   "source": [
    "#Reading the dataset.\n",
    "\n",
    "df1 = pd.read_csv('C:\\Telecom\\TelcomCustomer-Churn_1.csv')"
   ]
  },
  {
   "cell_type": "code",
   "execution_count": 3,
   "metadata": {
    "executionInfo": {
     "elapsed": 10,
     "status": "ok",
     "timestamp": 1671242250729,
     "user": {
      "displayName": "Himanshu Bisht",
      "userId": "08365911140108723719"
     },
     "user_tz": -330
    },
    "id": "MDlZ8Y9i9HyM"
   },
   "outputs": [],
   "source": [
    "#Reading the dataset.\n",
    "\n",
    "df2 = pd.read_csv('C:\\Telecom\\TelcomCustomer-Churn_2.csv')"
   ]
  },
  {
   "cell_type": "code",
   "execution_count": 4,
   "metadata": {
    "executionInfo": {
     "elapsed": 11,
     "status": "ok",
     "timestamp": 1671242250730,
     "user": {
      "displayName": "Himanshu Bisht",
      "userId": "08365911140108723719"
     },
     "user_tz": -330
    },
    "id": "ri7y07Vw9PzM"
   },
   "outputs": [],
   "source": [
    "#Merging the dataset on common column.\n",
    "\n",
    "df = pd.merge(df1, df2, on=\"customerID\")"
   ]
  },
  {
   "cell_type": "code",
   "execution_count": 5,
   "metadata": {
    "colab": {
     "base_uri": "https://localhost:8080/"
    },
    "executionInfo": {
     "elapsed": 10,
     "status": "ok",
     "timestamp": 1671242250730,
     "user": {
      "displayName": "Himanshu Bisht",
      "userId": "08365911140108723719"
     },
     "user_tz": -330
    },
    "id": "C6wavy8e99Tx",
    "outputId": "fcbcd12d-f7d2-4848-eeb8-43a0a6e1ddc9"
   },
   "outputs": [
    {
     "name": "stdout",
     "output_type": "stream",
     "text": [
      "All columns from the merged dataframes are incorporated in the new dataframe\n"
     ]
    }
   ],
   "source": [
    "#Here we are going to verify if all the columns are incorporated in new dataframe.\n",
    "#We add the no. of columns of merged dataframes(df1,df2) and subtract common column(customerID)\n",
    "#If it equals the new dataframe's(df) no. of columns, then all the columns are incorporated or else not.\n",
    "\n",
    "if(df.shape[1]==(df1.shape[1]+df2.shape[1]-1)):\n",
    "  print(\"All columns from the merged dataframes are incorporated in the new dataframe\")\n",
    "else:\n",
    "  print(\"All columns from the merged dataframes are not incorporated in the new dataframe\")"
   ]
  },
  {
   "cell_type": "code",
   "execution_count": 6,
   "metadata": {
    "colab": {
     "base_uri": "https://localhost:8080/"
    },
    "executionInfo": {
     "elapsed": 8,
     "status": "ok",
     "timestamp": 1671242250730,
     "user": {
      "displayName": "Himanshu Bisht",
      "userId": "08365911140108723719"
     },
     "user_tz": -330
    },
    "id": "5is7iZTH_Hay",
    "outputId": "1ad99555-2940-482e-ff2a-d9320de41a86"
   },
   "outputs": [
    {
     "name": "stdout",
     "output_type": "stream",
     "text": [
      "Male      3555\n",
      "Female    3488\n",
      "Name: gender, dtype: int64\n",
      "0    5901\n",
      "1    1142\n",
      "Name: SeniorCitizen, dtype: int64\n",
      "No     3641\n",
      "Yes    3402\n",
      "Name: Partner, dtype: int64\n",
      "No     4933\n",
      "Yes    2110\n",
      "Name: Dependents, dtype: int64\n",
      "1     613\n",
      "72    362\n",
      "2     238\n",
      "3     200\n",
      "4     176\n",
      "     ... \n",
      "28     57\n",
      "39     56\n",
      "44     51\n",
      "36     50\n",
      "0      11\n",
      "Name: tenure, Length: 73, dtype: int64\n",
      "Yes    6361\n",
      "No      682\n",
      "Name: PhoneService, dtype: int64\n",
      "No                  3390\n",
      "Yes                 2971\n",
      "No phone service     682\n",
      "Name: MultipleLines, dtype: int64\n",
      "Fiber optic    3096\n",
      "DSL            2421\n",
      "No             1526\n",
      "Name: InternetService, dtype: int64\n",
      "No                     3498\n",
      "Yes                    2019\n",
      "No internet service    1526\n",
      "Name: OnlineSecurity, dtype: int64\n",
      "No                     3088\n",
      "Yes                    2429\n",
      "No internet service    1526\n",
      "Name: OnlineBackup, dtype: int64\n",
      "No                     3095\n",
      "Yes                    2422\n",
      "No internet service    1526\n",
      "Name: DeviceProtection, dtype: int64\n",
      "No                     3473\n",
      "Yes                    2044\n",
      "No internet service    1526\n",
      "Name: TechSupport, dtype: int64\n",
      "No                     2810\n",
      "Yes                    2707\n",
      "No internet service    1526\n",
      "Name: StreamingTV, dtype: int64\n",
      "No                     2785\n",
      "Yes                    2732\n",
      "No internet service    1526\n",
      "Name: StreamingMovies, dtype: int64\n",
      "Month-to-month    3875\n",
      "Two year          1695\n",
      "One year          1473\n",
      "Name: Contract, dtype: int64\n",
      "Yes    4171\n",
      "No     2872\n",
      "Name: PaperlessBilling, dtype: int64\n",
      "Electronic check             2365\n",
      "Mailed check                 1612\n",
      "Bank transfer (automatic)    1544\n",
      "Credit card (automatic)      1522\n",
      "Name: PaymentMethod, dtype: int64\n",
      "20.05     61\n",
      "19.85     45\n",
      "19.95     44\n",
      "19.90     44\n",
      "20.00     43\n",
      "          ..\n",
      "23.65      1\n",
      "114.70     1\n",
      "43.65      1\n",
      "87.80      1\n",
      "78.70      1\n",
      "Name: MonthlyCharges, Length: 1585, dtype: int64\n",
      "          11\n",
      "20.2      11\n",
      "19.75      9\n",
      "20.05      8\n",
      "19.9       8\n",
      "          ..\n",
      "6849.4     1\n",
      "692.35     1\n",
      "130.15     1\n",
      "3211.9     1\n",
      "6844.5     1\n",
      "Name: TotalCharges, Length: 6531, dtype: int64\n",
      "No     5174\n",
      "Yes    1869\n",
      "Name: Churn, dtype: int64\n"
     ]
    }
   ],
   "source": [
    "#Analyzing the values of all the features.\n",
    "\n",
    "print(df[\"gender\"].value_counts())\n",
    "print(df[\"SeniorCitizen\"].value_counts())\n",
    "print(df[\"Partner\"].value_counts())\n",
    "print(df[\"Dependents\"].value_counts())\n",
    "print(df[\"tenure\"].value_counts())\n",
    "print(df[\"PhoneService\"].value_counts())\n",
    "print(df[\"MultipleLines\"].value_counts())\n",
    "print(df[\"InternetService\"].value_counts())\n",
    "print(df[\"OnlineSecurity\"].value_counts())\n",
    "print(df[\"OnlineBackup\"].value_counts())\n",
    "print(df[\"DeviceProtection\"].value_counts())\n",
    "print(df[\"TechSupport\"].value_counts())\n",
    "print(df[\"StreamingTV\"].value_counts())\n",
    "print(df[\"StreamingMovies\"].value_counts())\n",
    "print(df[\"Contract\"].value_counts())\n",
    "print(df[\"PaperlessBilling\"].value_counts())\n",
    "print(df[\"PaymentMethod\"].value_counts())\n",
    "print(df[\"MonthlyCharges\"].value_counts())\n",
    "print(df[\"TotalCharges\"].value_counts())\n",
    "print(df[\"Churn\"].value_counts())"
   ]
  },
  {
   "cell_type": "code",
   "execution_count": 7,
   "metadata": {
    "executionInfo": {
     "elapsed": 7,
     "status": "ok",
     "timestamp": 1671242250731,
     "user": {
      "displayName": "Himanshu Bisht",
      "userId": "08365911140108723719"
     },
     "user_tz": -330
    },
    "id": "j1Ew6OiUfNKt"
   },
   "outputs": [],
   "source": [
    "#We can adjust the values of SeniorCitizen column to Yes and No, instead of 1 and 0 for better representation.\n",
    "#Replacing 1 with Yes and 0 with No.\n",
    "\n",
    "df[\"SeniorCitizen\"].replace(1,\"Yes\",inplace=True)\n",
    "df[\"SeniorCitizen\"].replace(0,\"No\",inplace=True)"
   ]
  },
  {
   "cell_type": "code",
   "execution_count": 8,
   "metadata": {
    "executionInfo": {
     "elapsed": 7,
     "status": "ok",
     "timestamp": 1671242250731,
     "user": {
      "displayName": "Himanshu Bisht",
      "userId": "08365911140108723719"
     },
     "user_tz": -330
    },
    "id": "k38SR6zKQRri"
   },
   "outputs": [],
   "source": [
    "#In tenure column we have 0 values. Considering all the values in years, 0 year does not make much of a sense.\n",
    "#We will consider 0 as 1 year as that is the most close value of year from 0. Imputing 1 for all 0's in tenure column.\n",
    "\n",
    "df[\"tenure\"].replace(0,1,inplace=True)"
   ]
  },
  {
   "cell_type": "code",
   "execution_count": 9,
   "metadata": {
    "executionInfo": {
     "elapsed": 6,
     "status": "ok",
     "timestamp": 1671242250731,
     "user": {
      "displayName": "Himanshu Bisht",
      "userId": "08365911140108723719"
     },
     "user_tz": -330
    },
    "id": "bEZp2tD4eq7J"
   },
   "outputs": [],
   "source": [
    "#There are two columns which have continous values, MonthlyCharges and TotalCharges.\n",
    "#MonthlyCharges is default float, so no need to change the same. We have changed the TotalCharges to float with errors = 'coerce', which will\n",
    "#transform non numeric values to NaN\n",
    "\n",
    "df['TotalCharges']=pd.to_numeric(df['TotalCharges'],errors='coerce')"
   ]
  },
  {
   "cell_type": "code",
   "execution_count": 10,
   "metadata": {
    "executionInfo": {
     "elapsed": 6,
     "status": "ok",
     "timestamp": 1671242250731,
     "user": {
      "displayName": "Himanshu Bisht",
      "userId": "08365911140108723719"
     },
     "user_tz": -330
    },
    "id": "uCbwmIPX2fV_"
   },
   "outputs": [],
   "source": [
    "#Filling the NaN values with value \"1\" as 1 can be the minimum in Total Charges.\n",
    "\n",
    "df['TotalCharges']=df['TotalCharges'].fillna(1)"
   ]
  },
  {
   "cell_type": "code",
   "execution_count": 11,
   "metadata": {
    "colab": {
     "base_uri": "https://localhost:8080/",
     "height": 860
    },
    "executionInfo": {
     "elapsed": 1888,
     "status": "ok",
     "timestamp": 1671242252613,
     "user": {
      "displayName": "Himanshu Bisht",
      "userId": "08365911140108723719"
     },
     "user_tz": -330
    },
    "id": "2jb-NLk9AXnD",
    "outputId": "0a1482ae-b23e-4c80-d8f7-5b676d65433a"
   },
   "outputs": [
    {
     "data": {
      "image/png": "[encoded data removed]",
      "text/plain": [
       "<Figure size 1080x1080 with 12 Axes>"
      ]
     },
     "metadata": {},
     "output_type": "display_data"
    }
   ],
   "source": [
    "#We have chosen only the relevant columns and converted to category for creating a pie chart.\n",
    "\n",
    "df[\"gender\"]=df.gender.astype('category')\n",
    "df[\"SeniorCitizen\"]=df.SeniorCitizen.astype('category')\n",
    "df[\"Partner\"]=df.Partner.astype('category')\n",
    "df[\"Contract\"]=df.Contract.astype('category')\n",
    "df[\"PaymentMethod\"]=df.PaymentMethod.astype('category')\n",
    "df[\"PhoneService\"]=df.PhoneService.astype('category')\n",
    "df[\"InternetService\"]=df.InternetService.astype('category')\n",
    "df[\"TechSupport\"]=df.TechSupport.astype('category')\n",
    "df[\"StreamingTV\"]=df.StreamingTV.astype('category')\n",
    "df[\"StreamingMovies\"]=df.StreamingMovies.astype('category')\n",
    "df[\"DeviceProtection\"]=df.DeviceProtection.astype('category')\n",
    "df[\"Churn\"]=df.Churn.astype('category')\n",
    "\n",
    "\n",
    "'''We are defining a function pie which takes a dataframe and returns pie charts for categorical columns.\n",
    "We ran a loop for dataframe columns and if there dtypes is category, we have plotted a graph for those columns.\n",
    "\n",
    "We have taken index variable for subplot function and incremented the same in loop.\n",
    "We are aware of the total no. of columns, we have taken the relevant values in subplot.\n",
    "\n",
    "We used autopct for percentage in pie chart.\n",
    "We have adjusted the figsize according to the visibilty of charts.\n",
    "'''\n",
    "\n",
    "plt.figure(figsize=(15,15))\n",
    "def pie(x):\n",
    "  index=0\n",
    "  for i in x.columns:\n",
    "    if x[i].dtypes=='category':\n",
    "      index=index+1\n",
    "      axes = plt.subplot(4,3,index)\n",
    "      x.groupby(i).size().plot(kind='pie',autopct=\"%.2f\",ax=axes)\n",
    "      axes.set_xlabel(i)\n",
    "      axes.set_ylabel(\"\")\n",
    "\n",
    "pie(df)"
   ]
  },
  {
   "cell_type": "code",
   "execution_count": 12,
   "metadata": {
    "colab": {
     "base_uri": "https://localhost:8080/"
    },
    "executionInfo": {
     "elapsed": 13,
     "status": "ok",
     "timestamp": 1671242252613,
     "user": {
      "displayName": "Himanshu Bisht",
      "userId": "08365911140108723719"
     },
     "user_tz": -330
    },
    "id": "4keLpz7efoIl",
    "outputId": "475a3444-5610-4745-ff84-5438c2ea4822"
   },
   "outputs": [
    {
     "name": "stdout",
     "output_type": "stream",
     "text": [
      "Demographic Insights : \n",
      "\n",
      "We have approximately equal no. of Males and Females customers.\n",
      "Our customer base is mostly of mid-age or young adults.\n",
      "We have approximately half of the customers who are married and half of the customers are single.\n",
      "\n",
      "\n",
      "Services Insights : \n",
      "\n",
      "We have 90% of our customers who use Phone Service.\n",
      "Majority of the customers prefer FiberOptic for Internet Services.\n",
      "Majority of the people do not go for Device Protection or Tech Support.\n",
      "We have close to 40% of people who StreamTV or StreamMovies\n",
      "\n",
      "\n",
      "Customer Account Insights : \n",
      "\n",
      "More than 50% of our customers prefer Month-to-Month contract.\n",
      "Majority of the people prefer Electronic check as their Payment Method followed by Mailed Check\n",
      "\n",
      "\n",
      "Churn Insights : \n",
      "\n",
      "We have seen majority of the people stay with our services last month and only 26% Churn is observed.\n"
     ]
    }
   ],
   "source": [
    "#Insights.\n",
    "\n",
    "print(\"Demographic Insights : \\n\\nWe have approximately equal no. of Males and Females customers.\\nOur customer base is mostly of mid-age or young adults.\\nWe have approximately half of the customers who are married and half of the customers are single.\\n\\n\")\n",
    "print(\"Services Insights : \\n\\nWe have 90% of our customers who use Phone Service.\\nMajority of the customers prefer FiberOptic for Internet Services.\\nMajority of the people do not go for Device Protection or Tech Support.\\nWe have close to 40% of people who StreamTV or StreamMovies\\n\\n\")\n",
    "print(\"Customer Account Insights : \\n\\nMore than 50% of our customers prefer Month-to-Month contract.\\nMajority of the people prefer Electronic check as their Payment Method followed by Mailed Check\\n\\n\")\n",
    "print(\"Churn Insights : \\n\\nWe have seen majority of the people stay with our services last month and only 26% Churn is observed.\")"
   ]
  },
  {
   "cell_type": "code",
   "execution_count": 13,
   "metadata": {
    "executionInfo": {
     "elapsed": 11,
     "status": "ok",
     "timestamp": 1671242252614,
     "user": {
      "displayName": "Himanshu Bisht",
      "userId": "08365911140108723719"
     },
     "user_tz": -330
    },
    "id": "Qu7ty5vxnqUj"
   },
   "outputs": [],
   "source": [
    "#Implementing OneHotEncoding.\n",
    "\n",
    "onehotcols=[\"gender\",\"SeniorCitizen\",\"Partner\",\"Dependents\",\"PhoneService\",\"PaperlessBilling\",\"Contract\",\"PaymentMethod\",\"MultipleLines\",\"InternetService\",\"OnlineSecurity\",\"OnlineBackup\",\"DeviceProtection\",\"TechSupport\",\"StreamingTV\",\"StreamingMovies\"]\n",
    "df = pd.get_dummies(df, columns=onehotcols)"
   ]
  },
  {
   "cell_type": "code",
   "execution_count": 14,
   "metadata": {
    "executionInfo": {
     "elapsed": 11,
     "status": "ok",
     "timestamp": 1671242252614,
     "user": {
      "displayName": "Himanshu Bisht",
      "userId": "08365911140108723719"
     },
     "user_tz": -330
    },
    "id": "RQURkw5DsflP"
   },
   "outputs": [],
   "source": [
    "#Splitting the data.\n",
    "\n",
    "X = df.drop([\"Churn\",\"customerID\"],axis=1)\n",
    "Y = df[\"Churn\"]\n",
    "\n",
    "from sklearn.model_selection import train_test_split\n",
    "\n",
    "X_train, X_test, Y_train, Y_test = train_test_split(X, Y, test_size=.20, random_state=1)"
   ]
  },
  {
   "cell_type": "code",
   "execution_count": 15,
   "metadata": {
    "colab": {
     "base_uri": "https://localhost:8080/"
    },
    "executionInfo": {
     "elapsed": 12,
     "status": "ok",
     "timestamp": 1671242252615,
     "user": {
      "displayName": "Himanshu Bisht",
      "userId": "08365911140108723719"
     },
     "user_tz": -330
    },
    "id": "ZmLne4HwQ93Q",
    "outputId": "4bc899fd-c3d3-47cc-bd63-0ea919c61ae5"
   },
   "outputs": [
    {
     "name": "stdout",
     "output_type": "stream",
     "text": [
      "Here is the normalized data : \n",
      "\n",
      "         tenure  MonthlyCharges  TotalCharges\n",
      "0     0.000000        0.115423      0.003322\n",
      "1     0.464789        0.385075      0.217474\n",
      "2     0.014085        0.354229      0.012339\n",
      "3     0.619718        0.239303      0.211860\n",
      "4     0.014085        0.521891      0.017348\n",
      "...        ...             ...           ...\n",
      "7038  0.323944        0.662189      0.229105\n",
      "7039  1.000000        0.845274      0.847774\n",
      "7040  0.140845        0.112935      0.039781\n",
      "7041  0.042254        0.558706      0.035192\n",
      "7042  0.915493        0.869652      0.788077\n",
      "\n",
      "[7043 rows x 3 columns]\n"
     ]
    }
   ],
   "source": [
    "#Here we are doing Normalization which is a process of rescaling the numeric columns to standard scale[0,1].\n",
    "#We subtract the minimum value of the column and divide by range(max-min).\n",
    "\n",
    "#Creating a dataframe and assigning the values from original dataframe.\n",
    "\n",
    "normalized_dataframe = pd.DataFrame()\n",
    "normalized_dataframe[\"tenure\"] = df[\"tenure\"]\n",
    "normalized_dataframe['MonthlyCharges'] = df[\"MonthlyCharges\"]\n",
    "normalized_dataframe[\"TotalCharges\"] = df[\"TotalCharges\"]\n",
    "\n",
    "for x in normalized_dataframe.columns:\n",
    "  normalized_dataframe[x] = (normalized_dataframe[x]-normalized_dataframe[x].min()) / (normalized_dataframe[x].max()-normalized_dataframe[x].min())\n",
    "\n",
    "print(\"Here is the normalized data : \\n\\n\",normalized_dataframe)\n"
   ]
  },
  {
   "cell_type": "code",
   "execution_count": 16,
   "metadata": {
    "colab": {
     "base_uri": "https://localhost:8080/"
    },
    "executionInfo": {
     "elapsed": 10,
     "status": "ok",
     "timestamp": 1671242252615,
     "user": {
      "displayName": "Himanshu Bisht",
      "userId": "08365911140108723719"
     },
     "user_tz": -330
    },
    "id": "RZqNTMms3KG0",
    "outputId": "0b742041-ad65-474e-dc26-6647621b889a"
   },
   "outputs": [
    {
     "name": "stdout",
     "output_type": "stream",
     "text": [
      "Standarized Data is : \n",
      "\n",
      "         tenure  MonthlyCharges  TotalCharges\n",
      "0    -1.277523       -1.160241     -0.992541\n",
      "1     0.066265       -0.259611     -0.172153\n",
      "2    -1.236802       -0.362635     -0.957999\n",
      "3     0.514194       -0.746482     -0.193659\n",
      "4    -1.236802        0.197351     -0.938809\n",
      "...        ...             ...           ...\n",
      "7038 -0.340944        0.665945     -0.127597\n",
      "7039  1.613656        1.277443      2.242448\n",
      "7040 -0.870315       -1.168549     -0.852873\n",
      "7041 -1.155360        0.320315     -0.870453\n",
      "7042  1.369331        1.358865      2.013754\n",
      "\n",
      "[7043 rows x 3 columns]\n"
     ]
    }
   ],
   "source": [
    "#Here we are doing standarization which will transform the data with mean of 0 and standard deviation of 1.\n",
    "#We will use Z-Score method.\n",
    "\n",
    "#Creating a dataframe and assigning the values from original dataframe.\n",
    "\n",
    "standarized_dataframe = pd.DataFrame()\n",
    "standarized_dataframe[\"tenure\"] = df[\"tenure\"]\n",
    "standarized_dataframe['MonthlyCharges'] = df[\"MonthlyCharges\"]\n",
    "standarized_dataframe[\"TotalCharges\"] = df[\"TotalCharges\"]\n",
    "\n",
    "for x in standarized_dataframe.columns:\n",
    "  standarized_dataframe[x] = (standarized_dataframe[x]-standarized_dataframe[x].mean())/standarized_dataframe[x].std()\n",
    "\n",
    "print(\"Standarized Data is : \\n\\n\",standarized_dataframe)"
   ]
  },
  {
   "cell_type": "code",
   "execution_count": 17,
   "metadata": {
    "executionInfo": {
     "elapsed": 8,
     "status": "ok",
     "timestamp": 1671242252615,
     "user": {
      "displayName": "Himanshu Bisht",
      "userId": "08365911140108723719"
     },
     "user_tz": -330
    },
    "id": "iV4LqZFXTQ0Q"
   },
   "outputs": [],
   "source": [
    "#Importing the xgboost and XGBClassifier as we have labels in the target variables.\n",
    "#Importing LabelEncoder as xgboost understands numeric values and it helps in encoding the labels to numeric values.\n",
    "#Importing GridSearchCV for finding the best parameters for the model.\n",
    "#Importing Classification Report.\n",
    "\n",
    "import xgboost as xgb\n",
    "from xgboost import XGBClassifier\n",
    "from sklearn.preprocessing import LabelEncoder\n",
    "from sklearn.model_selection import train_test_split\n",
    "from sklearn.model_selection import GridSearchCV\n",
    "from sklearn.metrics import classification_report"
   ]
  },
  {
   "cell_type": "code",
   "execution_count": 18,
   "metadata": {
    "executionInfo": {
     "elapsed": 9,
     "status": "ok",
     "timestamp": 1671242252616,
     "user": {
      "displayName": "Himanshu Bisht",
      "userId": "08365911140108723719"
     },
     "user_tz": -330
    },
    "id": "4gP6ETnMTrQW"
   },
   "outputs": [],
   "source": [
    "#Splitting the data into X and Y\n",
    "\n",
    "X = df.drop([\"Churn\",\"customerID\"],axis=1)\n",
    "Y = df[\"Churn\"]\n",
    "\n",
    "#Creating an object of LabelEncoder and using the same to transform the target variable Y.\n",
    "\n",
    "Encoder = LabelEncoder()\n",
    "Encoder = Encoder.fit(Y)\n",
    "Encoder_Y = Encoder.transform(Y)\n",
    "X_train, X_test, Y_train, Y_test = train_test_split(X, Encoder_Y, test_size=.20, random_state=1)"
   ]
  },
  {
   "cell_type": "code",
   "execution_count": 19,
   "metadata": {
    "colab": {
     "base_uri": "https://localhost:8080/"
    },
    "executionInfo": {
     "elapsed": 254938,
     "status": "ok",
     "timestamp": 1671242507545,
     "user": {
      "displayName": "Himanshu Bisht",
      "userId": "08365911140108723719"
     },
     "user_tz": -330
    },
    "id": "MEU1gmlCT0lN",
    "outputId": "14a37614-7ac0-4f1e-f174-876926dc7506"
   },
   "outputs": [
    {
     "name": "stdout",
     "output_type": "stream",
     "text": [
      "The best parameters are : \n",
      " {'eta': 0.9, 'gamma': 1, 'max_depth': 7, 'min_child_weight': 1, 'n_estimators': 200}\n"
     ]
    }
   ],
   "source": [
    "#Finding the best parameters using GridSearchCV.\n",
    "#eta is used for learning rate. It gets multiplied with the residuals to reduce their weights.\n",
    "#n_estimators is number of runs/trees xgboost tries to learn.\n",
    "#gamma is used to take care of overfitting.\n",
    "#max_depth is the maximum depth of the tree.\n",
    "#min_child_weight is when you stop splitting once you reach a certain amount of purity in a node.\n",
    "\n",
    "model = XGBClassifier()\n",
    "params = {\n",
    "    \n",
    "    \"eta\" : [0.9,0.8],\n",
    "    \"max_depth\" : [8,7],\n",
    "    \"gamma\" : [1,0],\n",
    "    \"min_child_weight\" : [1,2],\n",
    "    \"n_estimators\" : [200,100,300]\n",
    "}\n",
    "\n",
    "#Here n_jobs is number of jobs to run in parallel.\n",
    "#cv is number of cross validations for each selected set of hyperparameters.\n",
    "#Training the model.\n",
    "\n",
    "gd = GridSearchCV(model,params,n_jobs=4,cv=3)\n",
    "gd.fit(X_train,Y_train)\n",
    "\n",
    "print(\"The best parameters are : \\n\",gd.best_params_)"
   ]
  },
  {
   "cell_type": "code",
   "execution_count": 20,
   "metadata": {
    "colab": {
     "base_uri": "https://localhost:8080/"
    },
    "executionInfo": {
     "elapsed": 21,
     "status": "ok",
     "timestamp": 1671242507546,
     "user": {
      "displayName": "Himanshu Bisht",
      "userId": "08365911140108723719"
     },
     "user_tz": -330
    },
    "id": "-yG61tTLdWxJ",
    "outputId": "144b843a-58ad-4285-ae7c-7f77670ed6ea"
   },
   "outputs": [
    {
     "name": "stdout",
     "output_type": "stream",
     "text": [
      "The Classification Report for Training Data is :\n",
      "               precision    recall  f1-score   support\n",
      "\n",
      "           0       0.95      0.97      0.96      4113\n",
      "           1       0.92      0.87      0.89      1521\n",
      "\n",
      "    accuracy                           0.94      5634\n",
      "   macro avg       0.93      0.92      0.93      5634\n",
      "weighted avg       0.94      0.94      0.94      5634\n",
      "\n",
      "The Classification Report for Test Data is :\n",
      "               precision    recall  f1-score   support\n",
      "\n",
      "           0       0.86      0.85      0.86      1061\n",
      "           1       0.57      0.59      0.58       348\n",
      "\n",
      "    accuracy                           0.79      1409\n",
      "   macro avg       0.72      0.72      0.72      1409\n",
      "weighted avg       0.79      0.79      0.79      1409\n",
      "\n"
     ]
    }
   ],
   "source": [
    "#Evaluating the performance.\n",
    "#For Training Data.\n",
    "\n",
    "train_pred = gd.predict(X_train)\n",
    "print(\"The Classification Report for Training Data is :\\n\",classification_report(Y_train,train_pred))\n",
    "\n",
    "#For Testing Data.\n",
    "\n",
    "test_pred = gd.predict(X_test)\n",
    "print(\"The Classification Report for Test Data is :\\n\",classification_report(Y_test,test_pred))\n",
    "\n"
   ]
  },
  {
   "cell_type": "code",
   "execution_count": 21,
   "metadata": {
    "colab": {
     "base_uri": "https://localhost:8080/"
    },
    "executionInfo": {
     "elapsed": 17,
     "status": "ok",
     "timestamp": 1671242507547,
     "user": {
      "displayName": "Himanshu Bisht",
      "userId": "08365911140108723719"
     },
     "user_tz": -330
    },
    "id": "JMcyW_VBdc7S",
    "outputId": "66c81610-2da5-46de-b415-91543549fb64"
   },
   "outputs": [
    {
     "name": "stdout",
     "output_type": "stream",
     "text": [
      "We can see the accuracy in Training Data is 94% and Testing Data is 79%\n",
      "The model does not seem to do well in Test Data.\n",
      "We will try to tune the parameters to improve the performance.\n"
     ]
    }
   ],
   "source": [
    "#Insights.\n",
    "\n",
    "print(\"We can see the accuracy in Training Data is 94% and Testing Data is 79%\")\n",
    "print(\"The model does not seem to do well in Test Data.\")\n",
    "print(\"We will try to tune the parameters to improve the performance.\")"
   ]
  },
  {
   "cell_type": "code",
   "execution_count": 22,
   "metadata": {
    "executionInfo": {
     "elapsed": 10,
     "status": "ok",
     "timestamp": 1671242507547,
     "user": {
      "displayName": "Himanshu Bisht",
      "userId": "08365911140108723719"
     },
     "user_tz": -330
    },
    "id": "2xCAsHhfwZ0g"
   },
   "outputs": [],
   "source": [
    "#Splitting the data into X and Y\n",
    "\n",
    "X = df.drop([\"Churn\",\"customerID\"],axis=1)\n",
    "Y = df[\"Churn\"]\n",
    "\n",
    "#Creating an object of LabelEncoder and using the same to transform the target variable Y.\n",
    "\n",
    "Encoder = LabelEncoder()\n",
    "Encoder = Encoder.fit(Y)\n",
    "Encoder_Y = Encoder.transform(Y)\n",
    "X_train, X_test, Y_train, Y_test = train_test_split(X, Encoder_Y, test_size=.20, random_state=1)"
   ]
  },
  {
   "cell_type": "code",
   "execution_count": 23,
   "metadata": {
    "colab": {
     "base_uri": "https://localhost:8080/"
    },
    "executionInfo": {
     "elapsed": 300681,
     "status": "ok",
     "timestamp": 1671242808219,
     "user": {
      "displayName": "Himanshu Bisht",
      "userId": "08365911140108723719"
     },
     "user_tz": -330
    },
    "id": "SHGBLFPOwrua",
    "outputId": "caa8ba72-8625-4826-ad67-786b404bfc31"
   },
   "outputs": [
    {
     "name": "stdout",
     "output_type": "stream",
     "text": [
      "The best parameters are : \n",
      " {'eta': 0.01, 'gamma': 2, 'max_depth': 4, 'min_child_weight': 1, 'n_estimators': 500}\n"
     ]
    }
   ],
   "source": [
    "#Tuning the best parameters using GridSearchCV.\n",
    "#eta is used for learning rate. It gets multiplied with the residuals to reduce their weights.\n",
    "#n_estimators is number of runs/trees xgboost tries to learn.\n",
    "#gamma is used to take care of overfitting.\n",
    "#max_depth is the maximum depth of the tree.\n",
    "#min_child_weight is when you stop splitting once you reach a certain amount of purity in a node.\n",
    "\n",
    "\n",
    "model = XGBClassifier()\n",
    "params = {\n",
    "    \n",
    "    \"eta\" : [0.01,0.2],\n",
    "    \"max_depth\" : [3,4],\n",
    "    \"gamma\" : [0,2],\n",
    "    \"min_child_weight\" : [1,4],\n",
    "    \"n_estimators\" : [200,500,300]\n",
    "}\n",
    "\n",
    "#Here n_jobs is number of jobs to run in parallel.\n",
    "#cv is number of cross validations for each selected set of hyperparameters.\n",
    "#Training the model.\n",
    "\n",
    "gd = GridSearchCV(model,params,n_jobs=4,cv=4)\n",
    "gd.fit(X_train,Y_train)\n",
    "\n",
    "print(\"The best parameters are : \\n\",gd.best_params_)"
   ]
  },
  {
   "cell_type": "code",
   "execution_count": 24,
   "metadata": {
    "colab": {
     "base_uri": "https://localhost:8080/"
    },
    "executionInfo": {
     "elapsed": 18,
     "status": "ok",
     "timestamp": 1671242808220,
     "user": {
      "displayName": "Himanshu Bisht",
      "userId": "08365911140108723719"
     },
     "user_tz": -330
    },
    "id": "hkMa11GmH0Ii",
    "outputId": "5bcfdf64-806a-435b-b3da-c8bbc1112a8a"
   },
   "outputs": [
    {
     "name": "stdout",
     "output_type": "stream",
     "text": [
      "We have tuned the eta and max_depth values and reduced them to 0.01 and 4.\n",
      "We have tuned the gamma value by increasing it to 2.\n",
      "We have increased the cv value to 4\n",
      "These changes in parameters will help in improving the performance\n"
     ]
    }
   ],
   "source": [
    "#Parameter Tuning.\n",
    "\n",
    "print(\"We have tuned the eta and max_depth values and reduced them to 0.01 and 4.\")\n",
    "print(\"We have tuned the gamma value by increasing it to 2.\")\n",
    "print(\"We have increased the cv value to 4\")\n",
    "print(\"These changes in parameters will help in improving the performance\")"
   ]
  },
  {
   "cell_type": "code",
   "execution_count": 25,
   "metadata": {
    "colab": {
     "base_uri": "https://localhost:8080/"
    },
    "executionInfo": {
     "elapsed": 18,
     "status": "ok",
     "timestamp": 1671242808222,
     "user": {
      "displayName": "Himanshu Bisht",
      "userId": "08365911140108723719"
     },
     "user_tz": -330
    },
    "id": "smrtNFoYzypO",
    "outputId": "639307e8-91b7-42f5-f8b7-78bb075b9c1e"
   },
   "outputs": [
    {
     "name": "stdout",
     "output_type": "stream",
     "text": [
      "The Classification Report for Training Data is :\n",
      "               precision    recall  f1-score   support\n",
      "\n",
      "           0       0.85      0.91      0.88      4113\n",
      "           1       0.71      0.57      0.63      1521\n",
      "\n",
      "    accuracy                           0.82      5634\n",
      "   macro avg       0.78      0.74      0.76      5634\n",
      "weighted avg       0.81      0.82      0.81      5634\n",
      "\n",
      "The Classification Report for Test Data is :\n",
      "               precision    recall  f1-score   support\n",
      "\n",
      "           0       0.86      0.89      0.88      1061\n",
      "           1       0.63      0.57      0.60       348\n",
      "\n",
      "    accuracy                           0.81      1409\n",
      "   macro avg       0.75      0.73      0.74      1409\n",
      "weighted avg       0.81      0.81      0.81      1409\n",
      "\n"
     ]
    }
   ],
   "source": [
    "#Evaluating the performance.\n",
    "#For Training Data.\n",
    "\n",
    "train_pred = gd.predict(X_train)\n",
    "print(\"The Classification Report for Training Data is :\\n\",classification_report(Y_train,train_pred))\n",
    "\n",
    "#For Testing Data.\n",
    "\n",
    "test_pred = gd.predict(X_test)\n",
    "print(\"The Classification Report for Test Data is :\\n\",classification_report(Y_test,test_pred))\n"
   ]
  },
  {
   "cell_type": "code",
   "execution_count": 26,
   "metadata": {
    "colab": {
     "base_uri": "https://localhost:8080/"
    },
    "executionInfo": {
     "elapsed": 16,
     "status": "ok",
     "timestamp": 1671242808222,
     "user": {
      "displayName": "Himanshu Bisht",
      "userId": "08365911140108723719"
     },
     "user_tz": -330
    },
    "id": "1O1nfDPS0eCB",
    "outputId": "f9987f50-4dc7-4c03-875d-28f57e3b30e2"
   },
   "outputs": [
    {
     "name": "stdout",
     "output_type": "stream",
     "text": [
      "The accuracy in Training Data is 82% and Testing Data is 81%\n",
      "We have improved the performance of the model and the model behaves almost similar in both Training and Testing Data.\n"
     ]
    }
   ],
   "source": [
    "#Insights.\n",
    "\n",
    "print(\"The accuracy in Training Data is 82% and Testing Data is 81%\")\n",
    "print(\"We have improved the performance of the model and the model behaves almost similar in both Training and Testing Data.\")"
   ]
  },
  {
   "cell_type": "code",
   "execution_count": null,
   "metadata": {
    "executionInfo": {
     "elapsed": 14,
     "status": "ok",
     "timestamp": 1671242814636,
     "user": {
      "displayName": "Himanshu Bisht",
      "userId": "08365911140108723719"
     },
     "user_tz": -330
    },
    "id": "a365XnJQyT16"
   },
   "outputs": [],
   "source": []
  }
 ],
 "metadata": {
  "colab": {
   "authorship_tag": "ABX9TyOOLOPn1AspGJuHdmGReOO6",
   "provenance": []
  },
  "kernelspec": {
   "display_name": "Python 3 (ipykernel)",
   "language": "python",
   "name": "python3"
  },
  "language_info": {
   "codemirror_mode": {
    "name": "ipython",
    "version": 3
   },
   "file_extension": ".py",
   "mimetype": "text/x-python",
   "name": "python",
   "nbconvert_exporter": "python",
   "pygments_lexer": "ipython3",
   "version": "3.9.12"
  }
 },
 "nbformat": 4,
 "nbformat_minor": 1
}
